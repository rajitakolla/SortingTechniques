{
  "nbformat": 4,
  "nbformat_minor": 0,
  "metadata": {
    "colab": {
      "name": "BinaryTreeSort.ipynb",
      "provenance": [],
      "collapsed_sections": [],
      "include_colab_link": true
    },
    "kernelspec": {
      "name": "python3",
      "display_name": "Python 3"
    },
    "language_info": {
      "name": "python"
    }
  },
  "cells": [
    {
      "cell_type": "markdown",
      "metadata": {
        "id": "view-in-github",
        "colab_type": "text"
      },
      "source": [
        "<a href=\"https://colab.research.google.com/github/rajitakolla/SortingTechniques/blob/main/BinaryTreeSort.ipynb\" target=\"_parent\"><img src=\"https://colab.research.google.com/assets/colab-badge.svg\" alt=\"Open In Colab\"/></a>"
      ]
    },
    {
      "cell_type": "code",
      "metadata": {
        "colab": {
          "base_uri": "https://localhost:8080/"
        },
        "id": "kY-eyuMHraZA",
        "outputId": "16ed05ff-4be6-4ae9-b157-cb523cd87525"
      },
      "source": [
        "class Node:\n",
        "\n",
        "  def __init__(self, x: int, left = None, right = None):\n",
        "        self.val = int(x)\n",
        "        self.right = None\n",
        "        self.left = None\n",
        "\n",
        "class binary_tree_sort:\n",
        "\n",
        "  def insert(head,i):\n",
        "    if head == None:\n",
        "      return Node(i)\n",
        "    elif head.val < i:\n",
        "      head.left = binary_tree_sort.insert(head.left,i)\n",
        "    elif head.val >= i:\n",
        "      head.right = binary_tree_sort.insert(head.right,i)\n",
        "    return head\n",
        "\n",
        "  def inorder(root):\n",
        "    if root:\n",
        "        binary_tree_sort.inorder(root.left)\n",
        "        print(root.val)\n",
        "        binary_tree_sort.inorder(root.right)\n",
        "\n",
        "  def frame_bst(ip):\n",
        "    if not ip:\n",
        "      return ip\n",
        "    head = Node(1)\n",
        "    \n",
        "    for i in ip[1:]:\n",
        "      binary_tree_sort.insert(head,i)\n",
        "    binary_tree_sort.inorder(head)\n",
        "      \n",
        "\n",
        "binary_tree_sort.frame_bst(ip)\n",
        "\n",
        "\n"
      ],
      "execution_count": 23,
      "outputs": [
        {
          "output_type": "stream",
          "text": [
            "2000\n",
            "900\n",
            "40\n",
            "30\n",
            "20\n",
            "3\n",
            "1\n"
          ],
          "name": "stdout"
        }
      ]
    },
    {
      "cell_type": "code",
      "metadata": {
        "id": "uLmsgyuLr0UQ"
      },
      "source": [
        "ip = [1100,900,3, 20,2000, 30, 40]"
      ],
      "execution_count": 6,
      "outputs": []
    }
  ]
}