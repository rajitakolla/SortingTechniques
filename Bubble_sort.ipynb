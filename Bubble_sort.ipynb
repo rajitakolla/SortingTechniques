{
  "nbformat": 4,
  "nbformat_minor": 0,
  "metadata": {
    "colab": {
      "name": "Bubble sort.ipynb",
      "provenance": [],
      "authorship_tag": "ABX9TyOkd3JOWXpoMi0q6Sa7LCSe",
      "include_colab_link": true
    },
    "kernelspec": {
      "name": "python3",
      "display_name": "Python 3"
    },
    "language_info": {
      "name": "python"
    }
  },
  "cells": [
    {
      "cell_type": "markdown",
      "metadata": {
        "id": "view-in-github",
        "colab_type": "text"
      },
      "source": [
        "<a href=\"https://colab.research.google.com/github/rajitakolla/SortingTechniques/blob/main/Bubble_sort.ipynb\" target=\"_parent\"><img src=\"https://colab.research.google.com/assets/colab-badge.svg\" alt=\"Open In Colab\"/></a>"
      ]
    },
    {
      "cell_type": "code",
      "metadata": {
        "colab": {
          "base_uri": "https://localhost:8080/"
        },
        "id": "0MhUVgTJFPjU",
        "outputId": "8216ad30-750e-42a2-8797-c16ee615b288"
      },
      "source": [
        "ip = [11,22,31,4,5,6,100,2,34,4,5,60,7,-1]\n",
        "\n",
        "\n",
        "for i in range(len(ip)):\n",
        "  for j in range(i,len(ip)):\n",
        "    if(ip[i]>ip[j]):\n",
        "      ip[i],ip[j] = ip[j],ip[i]\n",
        "\n",
        "\n",
        "print(ip)"
      ],
      "execution_count": 3,
      "outputs": [
        {
          "output_type": "stream",
          "text": [
            "[-1, 2, 4, 4, 5, 5, 6, 7, 11, 22, 31, 34, 60, 100]\n"
          ],
          "name": "stdout"
        }
      ]
    },
    {
      "cell_type": "code",
      "metadata": {
        "id": "X52PcRzVINYF"
      },
      "source": [
        ""
      ],
      "execution_count": null,
      "outputs": []
    }
  ]
}