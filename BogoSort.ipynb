{
  "nbformat": 4,
  "nbformat_minor": 0,
  "metadata": {
    "colab": {
      "name": "BogoSort.ipynb",
      "provenance": [],
      "authorship_tag": "ABX9TyNQzcbmOtvoounE/4Fr2Vsi",
      "include_colab_link": true
    },
    "kernelspec": {
      "name": "python3",
      "display_name": "Python 3"
    },
    "language_info": {
      "name": "python"
    }
  },
  "cells": [
    {
      "cell_type": "markdown",
      "metadata": {
        "id": "view-in-github",
        "colab_type": "text"
      },
      "source": [
        "<a href=\"https://colab.research.google.com/github/rajitakolla/SortingTechniques/blob/main/BogoSort.ipynb\" target=\"_parent\"><img src=\"https://colab.research.google.com/assets/colab-badge.svg\" alt=\"Open In Colab\"/></a>"
      ]
    },
    {
      "cell_type": "code",
      "metadata": {
        "colab": {
          "base_uri": "https://localhost:8080/"
        },
        "id": "7r-NQmGy7-cM",
        "outputId": "ca2fa1e3-4b4b-4f0d-d619-fa38655b361a"
      },
      "source": [
        "from random import shuffle\n",
        "\n",
        "shuffle(ip)\n",
        "def check_sort(ip):\n",
        "  return all(ip[i]<=ip[i+1] for i in range(len(ip)-1))\n",
        "\n",
        "while not check_sort(ip):\n",
        "  shuffle(ip)\n",
        "\n",
        "print(ip)"
      ],
      "execution_count": 31,
      "outputs": [
        {
          "output_type": "stream",
          "text": [
            "[1, 30, 45, 100, 200, 3456, 8765]\n"
          ],
          "name": "stdout"
        }
      ]
    },
    {
      "cell_type": "code",
      "metadata": {
        "id": "jm99ZpkS8F_l"
      },
      "source": [
        "ip = [200,100,1,30,45,3456, 8765]"
      ],
      "execution_count": 28,
      "outputs": []
    },
    {
      "cell_type": "code",
      "metadata": {
        "id": "b_SGI32uEz3X"
      },
      "source": [
        ""
      ],
      "execution_count": null,
      "outputs": []
    }
  ]
}